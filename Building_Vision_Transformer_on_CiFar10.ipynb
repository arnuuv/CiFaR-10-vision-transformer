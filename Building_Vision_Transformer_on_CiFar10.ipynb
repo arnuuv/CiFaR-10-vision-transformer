{
  "nbformat": 4,
  "nbformat_minor": 0,
  "metadata": {
    "colab": {
      "provenance": [],
      "machine_shape": "hm",
      "gpuType": "A100"
    },
    "kernelspec": {
      "name": "python3",
      "display_name": "Python 3"
    },
    "language_info": {
      "name": "python"
    },
    "accelerator": "GPU",
    "widgets": {
      "application/vnd.jupyter.widget-state+json": {
        "86c3f81e5d634629bcfaf28133e3ff03": {
          "model_module": "@jupyter-widgets/controls",
          "model_name": "HBoxModel",
          "model_module_version": "1.5.0",
          "state": {
            "_dom_classes": [],
            "_model_module": "@jupyter-widgets/controls",
            "_model_module_version": "1.5.0",
            "_model_name": "HBoxModel",
            "_view_count": null,
            "_view_module": "@jupyter-widgets/controls",
            "_view_module_version": "1.5.0",
            "_view_name": "HBoxView",
            "box_style": "",
            "children": [
              "IPY_MODEL_7f51e58a0b8140fd9f3b3f0da537d36f",
              "IPY_MODEL_c46e672c1f7e42d692b9ee609e2a4d58",
              "IPY_MODEL_0c191cb873e14374a1c081513f12c27a"
            ],
            "layout": "IPY_MODEL_f2af21c114de4a85844ad733e2ebacfd"
          }
        },
        "7f51e58a0b8140fd9f3b3f0da537d36f": {
          "model_module": "@jupyter-widgets/controls",
          "model_name": "HTMLModel",
          "model_module_version": "1.5.0",
          "state": {
            "_dom_classes": [],
            "_model_module": "@jupyter-widgets/controls",
            "_model_module_version": "1.5.0",
            "_model_name": "HTMLModel",
            "_view_count": null,
            "_view_module": "@jupyter-widgets/controls",
            "_view_module_version": "1.5.0",
            "_view_name": "HTMLView",
            "description": "",
            "description_tooltip": null,
            "layout": "IPY_MODEL_21adf3f9a74a4a449ab73f2dd1f053cb",
            "placeholder": "​",
            "style": "IPY_MODEL_a8a7c6d194864857b125eb370c8cde2a",
            "value": "100%"
          }
        },
        "c46e672c1f7e42d692b9ee609e2a4d58": {
          "model_module": "@jupyter-widgets/controls",
          "model_name": "FloatProgressModel",
          "model_module_version": "1.5.0",
          "state": {
            "_dom_classes": [],
            "_model_module": "@jupyter-widgets/controls",
            "_model_module_version": "1.5.0",
            "_model_name": "FloatProgressModel",
            "_view_count": null,
            "_view_module": "@jupyter-widgets/controls",
            "_view_module_version": "1.5.0",
            "_view_name": "ProgressView",
            "bar_style": "success",
            "description": "",
            "description_tooltip": null,
            "layout": "IPY_MODEL_eeea6c9e4ce347a1b80e6fbfbb11d8c5",
            "max": 10,
            "min": 0,
            "orientation": "horizontal",
            "style": "IPY_MODEL_84922b58c889416faed947b1ef778ef6",
            "value": 10
          }
        },
        "0c191cb873e14374a1c081513f12c27a": {
          "model_module": "@jupyter-widgets/controls",
          "model_name": "HTMLModel",
          "model_module_version": "1.5.0",
          "state": {
            "_dom_classes": [],
            "_model_module": "@jupyter-widgets/controls",
            "_model_module_version": "1.5.0",
            "_model_name": "HTMLModel",
            "_view_count": null,
            "_view_module": "@jupyter-widgets/controls",
            "_view_module_version": "1.5.0",
            "_view_name": "HTMLView",
            "description": "",
            "description_tooltip": null,
            "layout": "IPY_MODEL_588dd4e0efd84f679561731c81177887",
            "placeholder": "​",
            "style": "IPY_MODEL_e4d1786969ae4ce7bad983a2edc50698",
            "value": " 10/10 [04:21&lt;00:00, 26.05s/it]"
          }
        },
        "f2af21c114de4a85844ad733e2ebacfd": {
          "model_module": "@jupyter-widgets/base",
          "model_name": "LayoutModel",
          "model_module_version": "1.2.0",
          "state": {
            "_model_module": "@jupyter-widgets/base",
            "_model_module_version": "1.2.0",
            "_model_name": "LayoutModel",
            "_view_count": null,
            "_view_module": "@jupyter-widgets/base",
            "_view_module_version": "1.2.0",
            "_view_name": "LayoutView",
            "align_content": null,
            "align_items": null,
            "align_self": null,
            "border": null,
            "bottom": null,
            "display": null,
            "flex": null,
            "flex_flow": null,
            "grid_area": null,
            "grid_auto_columns": null,
            "grid_auto_flow": null,
            "grid_auto_rows": null,
            "grid_column": null,
            "grid_gap": null,
            "grid_row": null,
            "grid_template_areas": null,
            "grid_template_columns": null,
            "grid_template_rows": null,
            "height": null,
            "justify_content": null,
            "justify_items": null,
            "left": null,
            "margin": null,
            "max_height": null,
            "max_width": null,
            "min_height": null,
            "min_width": null,
            "object_fit": null,
            "object_position": null,
            "order": null,
            "overflow": null,
            "overflow_x": null,
            "overflow_y": null,
            "padding": null,
            "right": null,
            "top": null,
            "visibility": null,
            "width": null
          }
        },
        "21adf3f9a74a4a449ab73f2dd1f053cb": {
          "model_module": "@jupyter-widgets/base",
          "model_name": "LayoutModel",
          "model_module_version": "1.2.0",
          "state": {
            "_model_module": "@jupyter-widgets/base",
            "_model_module_version": "1.2.0",
            "_model_name": "LayoutModel",
            "_view_count": null,
            "_view_module": "@jupyter-widgets/base",
            "_view_module_version": "1.2.0",
            "_view_name": "LayoutView",
            "align_content": null,
            "align_items": null,
            "align_self": null,
            "border": null,
            "bottom": null,
            "display": null,
            "flex": null,
            "flex_flow": null,
            "grid_area": null,
            "grid_auto_columns": null,
            "grid_auto_flow": null,
            "grid_auto_rows": null,
            "grid_column": null,
            "grid_gap": null,
            "grid_row": null,
            "grid_template_areas": null,
            "grid_template_columns": null,
            "grid_template_rows": null,
            "height": null,
            "justify_content": null,
            "justify_items": null,
            "left": null,
            "margin": null,
            "max_height": null,
            "max_width": null,
            "min_height": null,
            "min_width": null,
            "object_fit": null,
            "object_position": null,
            "order": null,
            "overflow": null,
            "overflow_x": null,
            "overflow_y": null,
            "padding": null,
            "right": null,
            "top": null,
            "visibility": null,
            "width": null
          }
        },
        "a8a7c6d194864857b125eb370c8cde2a": {
          "model_module": "@jupyter-widgets/controls",
          "model_name": "DescriptionStyleModel",
          "model_module_version": "1.5.0",
          "state": {
            "_model_module": "@jupyter-widgets/controls",
            "_model_module_version": "1.5.0",
            "_model_name": "DescriptionStyleModel",
            "_view_count": null,
            "_view_module": "@jupyter-widgets/base",
            "_view_module_version": "1.2.0",
            "_view_name": "StyleView",
            "description_width": ""
          }
        },
        "eeea6c9e4ce347a1b80e6fbfbb11d8c5": {
          "model_module": "@jupyter-widgets/base",
          "model_name": "LayoutModel",
          "model_module_version": "1.2.0",
          "state": {
            "_model_module": "@jupyter-widgets/base",
            "_model_module_version": "1.2.0",
            "_model_name": "LayoutModel",
            "_view_count": null,
            "_view_module": "@jupyter-widgets/base",
            "_view_module_version": "1.2.0",
            "_view_name": "LayoutView",
            "align_content": null,
            "align_items": null,
            "align_self": null,
            "border": null,
            "bottom": null,
            "display": null,
            "flex": null,
            "flex_flow": null,
            "grid_area": null,
            "grid_auto_columns": null,
            "grid_auto_flow": null,
            "grid_auto_rows": null,
            "grid_column": null,
            "grid_gap": null,
            "grid_row": null,
            "grid_template_areas": null,
            "grid_template_columns": null,
            "grid_template_rows": null,
            "height": null,
            "justify_content": null,
            "justify_items": null,
            "left": null,
            "margin": null,
            "max_height": null,
            "max_width": null,
            "min_height": null,
            "min_width": null,
            "object_fit": null,
            "object_position": null,
            "order": null,
            "overflow": null,
            "overflow_x": null,
            "overflow_y": null,
            "padding": null,
            "right": null,
            "top": null,
            "visibility": null,
            "width": null
          }
        },
        "84922b58c889416faed947b1ef778ef6": {
          "model_module": "@jupyter-widgets/controls",
          "model_name": "ProgressStyleModel",
          "model_module_version": "1.5.0",
          "state": {
            "_model_module": "@jupyter-widgets/controls",
            "_model_module_version": "1.5.0",
            "_model_name": "ProgressStyleModel",
            "_view_count": null,
            "_view_module": "@jupyter-widgets/base",
            "_view_module_version": "1.2.0",
            "_view_name": "StyleView",
            "bar_color": null,
            "description_width": ""
          }
        },
        "588dd4e0efd84f679561731c81177887": {
          "model_module": "@jupyter-widgets/base",
          "model_name": "LayoutModel",
          "model_module_version": "1.2.0",
          "state": {
            "_model_module": "@jupyter-widgets/base",
            "_model_module_version": "1.2.0",
            "_model_name": "LayoutModel",
            "_view_count": null,
            "_view_module": "@jupyter-widgets/base",
            "_view_module_version": "1.2.0",
            "_view_name": "LayoutView",
            "align_content": null,
            "align_items": null,
            "align_self": null,
            "border": null,
            "bottom": null,
            "display": null,
            "flex": null,
            "flex_flow": null,
            "grid_area": null,
            "grid_auto_columns": null,
            "grid_auto_flow": null,
            "grid_auto_rows": null,
            "grid_column": null,
            "grid_gap": null,
            "grid_row": null,
            "grid_template_areas": null,
            "grid_template_columns": null,
            "grid_template_rows": null,
            "height": null,
            "justify_content": null,
            "justify_items": null,
            "left": null,
            "margin": null,
            "max_height": null,
            "max_width": null,
            "min_height": null,
            "min_width": null,
            "object_fit": null,
            "object_position": null,
            "order": null,
            "overflow": null,
            "overflow_x": null,
            "overflow_y": null,
            "padding": null,
            "right": null,
            "top": null,
            "visibility": null,
            "width": null
          }
        },
        "e4d1786969ae4ce7bad983a2edc50698": {
          "model_module": "@jupyter-widgets/controls",
          "model_name": "DescriptionStyleModel",
          "model_module_version": "1.5.0",
          "state": {
            "_model_module": "@jupyter-widgets/controls",
            "_model_module_version": "1.5.0",
            "_model_name": "DescriptionStyleModel",
            "_view_count": null,
            "_view_module": "@jupyter-widgets/base",
            "_view_module_version": "1.2.0",
            "_view_name": "StyleView",
            "description_width": ""
          }
        }
      }
    }
  },
  "cells": [
    {
      "cell_type": "code",
      "execution_count": 1,
      "metadata": {
        "id": "mbOqZIRbTQA2"
      },
      "outputs": [],
      "source": [
        "import torch\n",
        "import torch.nn as nn\n",
        "import torch.nn.functional as F\n",
        "import torch.optim\n",
        "from torch.utils.data import DataLoader\n",
        "import torchvision\n",
        "from torchvision import datasets, transforms\n",
        "import numpy as np\n",
        "import pandas as pd\n",
        "import random\n",
        "import matplotlib.pyplot as plt"
      ]
    },
    {
      "cell_type": "code",
      "source": [
        "torch.__version__\n",
        "torchvision.__version__"
      ],
      "metadata": {
        "colab": {
          "base_uri": "https://localhost:8080/",
          "height": 35
        },
        "id": "S8wtQOUwYGQ3",
        "outputId": "e1651724-f436-43cb-a96f-37f93f919004"
      },
      "execution_count": 2,
      "outputs": [
        {
          "output_type": "execute_result",
          "data": {
            "text/plain": [
              "'0.21.0+cu124'"
            ],
            "application/vnd.google.colaboratory.intrinsic+json": {
              "type": "string"
            }
          },
          "metadata": {},
          "execution_count": 2
        }
      ]
    },
    {
      "cell_type": "markdown",
      "source": [
        "## 2. Setup Device - Agnostic Code\n"
      ],
      "metadata": {
        "id": "13WeVeoWYWYp"
      }
    },
    {
      "cell_type": "code",
      "source": [
        "!nvidia-smi\n"
      ],
      "metadata": {
        "colab": {
          "base_uri": "https://localhost:8080/"
        },
        "id": "wG2LSMRpYVat",
        "outputId": "e1dca780-8644-45ed-c3c9-eb64b33763e9"
      },
      "execution_count": 3,
      "outputs": [
        {
          "output_type": "stream",
          "name": "stdout",
          "text": [
            "Fri Jul 18 07:07:11 2025       \n",
            "+-----------------------------------------------------------------------------------------+\n",
            "| NVIDIA-SMI 550.54.15              Driver Version: 550.54.15      CUDA Version: 12.4     |\n",
            "|-----------------------------------------+------------------------+----------------------+\n",
            "| GPU  Name                 Persistence-M | Bus-Id          Disp.A | Volatile Uncorr. ECC |\n",
            "| Fan  Temp   Perf          Pwr:Usage/Cap |           Memory-Usage | GPU-Util  Compute M. |\n",
            "|                                         |                        |               MIG M. |\n",
            "|=========================================+========================+======================|\n",
            "|   0  NVIDIA A100-SXM4-40GB          Off |   00000000:00:04.0 Off |                    0 |\n",
            "| N/A   31C    P0             48W /  400W |       0MiB /  40960MiB |      0%      Default |\n",
            "|                                         |                        |             Disabled |\n",
            "+-----------------------------------------+------------------------+----------------------+\n",
            "                                                                                         \n",
            "+-----------------------------------------------------------------------------------------+\n",
            "| Processes:                                                                              |\n",
            "|  GPU   GI   CI        PID   Type   Process name                              GPU Memory |\n",
            "|        ID   ID                                                               Usage      |\n",
            "|=========================================================================================|\n",
            "|  No running processes found                                                             |\n",
            "+-----------------------------------------------------------------------------------------+\n"
          ]
        }
      ]
    },
    {
      "cell_type": "markdown",
      "source": [],
      "metadata": {
        "id": "j1VKu_8MYFwp"
      }
    },
    {
      "cell_type": "code",
      "source": [
        "torch.cuda.is_available()\n"
      ],
      "metadata": {
        "colab": {
          "base_uri": "https://localhost:8080/"
        },
        "id": "e_tVuM-uY3Ip",
        "outputId": "f00eaa0e-af9e-4b26-9bd2-7b580e1cdf81"
      },
      "execution_count": 4,
      "outputs": [
        {
          "output_type": "execute_result",
          "data": {
            "text/plain": [
              "True"
            ]
          },
          "metadata": {},
          "execution_count": 4
        }
      ]
    },
    {
      "cell_type": "code",
      "source": [
        "device = \"cuda\" if torch.cuda.is_available() else \"cpu\""
      ],
      "metadata": {
        "id": "lwEhFOToY54T"
      },
      "execution_count": 5,
      "outputs": []
    },
    {
      "cell_type": "markdown",
      "source": [],
      "metadata": {
        "id": "pBgzmKK-Y279"
      }
    },
    {
      "cell_type": "markdown",
      "source": [],
      "metadata": {
        "id": "WXVkqRfwY2F8"
      }
    },
    {
      "cell_type": "markdown",
      "source": [
        "##3. Set the seed\n"
      ],
      "metadata": {
        "id": "dlK98ojRY7__"
      }
    },
    {
      "cell_type": "code",
      "source": [
        "torch.manual_seed(42)\n",
        "torch.cuda.manual_seed(42)\n",
        "random.seed(42)\n"
      ],
      "metadata": {
        "id": "IfonW0oHY-Df"
      },
      "execution_count": 6,
      "outputs": []
    },
    {
      "cell_type": "markdown",
      "source": [
        "##4.Setting the hyperparameters\n"
      ],
      "metadata": {
        "id": "iFQWlxLHZRDu"
      }
    },
    {
      "cell_type": "code",
      "source": [
        "BATCH_SIZE=128\n",
        "EPOCHS = 10\n",
        "LEARNING_RATE = 3e-4\n",
        "PATCH_SIZE=4\n",
        "NUM_CLASSES=10\n",
        "IMAGE_SIZE=32\n",
        "CHANNELS = 3\n",
        "EMBED_DIM = 256\n",
        "NUM_HEADS = 8\n",
        "DEPTH = 6\n",
        "MLP_DIM = 512\n",
        "DROP_RATE = 0.1"
      ],
      "metadata": {
        "id": "tx2hmdU_ZTfG"
      },
      "execution_count": 7,
      "outputs": []
    },
    {
      "cell_type": "markdown",
      "source": [
        "##5. Define Image Transformations\n"
      ],
      "metadata": {
        "id": "3fkvtpuWHCwY"
      }
    },
    {
      "cell_type": "code",
      "source": [
        "transform = transforms.Compose([\n",
        "    transforms.ToTensor(),\n",
        "    transforms.Normalize((0.5),(0.5))\n",
        "    #helps the model to convert faster\n",
        "    #helps to make the numerical computations stable (normalize)\n",
        "])"
      ],
      "metadata": {
        "id": "R4m_TAxwHHUs"
      },
      "execution_count": 8,
      "outputs": []
    },
    {
      "cell_type": "markdown",
      "source": [
        "##6. Getting a dataset"
      ],
      "metadata": {
        "id": "RW6UfVFoHhIw"
      }
    },
    {
      "cell_type": "code",
      "source": [
        "train_dataset = datasets.CIFAR10(root = \"data\",\n",
        "                                 train = True,\n",
        "                                 download = True,\n",
        "                                 transform = transform\n",
        "\n",
        "                                 )"
      ],
      "metadata": {
        "colab": {
          "base_uri": "https://localhost:8080/"
        },
        "id": "6ekeSvU9HgsM",
        "outputId": "8768dceb-c462-461c-aca6-b30158392596"
      },
      "execution_count": 9,
      "outputs": [
        {
          "output_type": "stream",
          "name": "stderr",
          "text": [
            "100%|██████████| 170M/170M [00:02<00:00, 67.8MB/s]\n"
          ]
        }
      ]
    },
    {
      "cell_type": "code",
      "source": [
        "test_dataset = datasets.CIFAR10(root = \"data\",\n",
        "                                train = False,\n",
        "                                download = True,\n",
        "                                transform = transform\n",
        "                                )"
      ],
      "metadata": {
        "id": "TUjCLwn9IzUc"
      },
      "execution_count": 10,
      "outputs": []
    },
    {
      "cell_type": "markdown",
      "source": [],
      "metadata": {
        "id": "k9jUHI7gHCRS"
      }
    },
    {
      "cell_type": "code",
      "source": [
        "train_dataset"
      ],
      "metadata": {
        "colab": {
          "base_uri": "https://localhost:8080/"
        },
        "id": "B9eEpoIcI_Qu",
        "outputId": "3b11b0a1-6097-4c96-ef5c-1af19864864b"
      },
      "execution_count": 11,
      "outputs": [
        {
          "output_type": "execute_result",
          "data": {
            "text/plain": [
              "Dataset CIFAR10\n",
              "    Number of datapoints: 50000\n",
              "    Root location: data\n",
              "    Split: Train\n",
              "    StandardTransform\n",
              "Transform: Compose(\n",
              "               ToTensor()\n",
              "               Normalize(mean=0.5, std=0.5)\n",
              "           )"
            ]
          },
          "metadata": {},
          "execution_count": 11
        }
      ]
    },
    {
      "cell_type": "code",
      "source": [
        "test_dataset"
      ],
      "metadata": {
        "colab": {
          "base_uri": "https://localhost:8080/"
        },
        "id": "CCBpJsrGJEiv",
        "outputId": "9808f56a-a539-4b1c-82ae-a01440c6c3db"
      },
      "execution_count": 12,
      "outputs": [
        {
          "output_type": "execute_result",
          "data": {
            "text/plain": [
              "Dataset CIFAR10\n",
              "    Number of datapoints: 10000\n",
              "    Root location: data\n",
              "    Split: Test\n",
              "    StandardTransform\n",
              "Transform: Compose(\n",
              "               ToTensor()\n",
              "               Normalize(mean=0.5, std=0.5)\n",
              "           )"
            ]
          },
          "metadata": {},
          "execution_count": 12
        }
      ]
    },
    {
      "cell_type": "markdown",
      "source": [
        "## 7. Converting our datasets into dataloaders\n",
        "\n",
        "Dataloader turns our data into mini batches.\n",
        "1. Its more computationally efficient, as in ,your computing hardware may not be able to look (store in memory) at 50000 images in one hit. So we can break it into 128 images at a time. (batch size of 128).\n",
        "2. It gives our neural network more chances to update its gradient per epoch."
      ],
      "metadata": {
        "id": "gY7xo7BmJVlg"
      }
    },
    {
      "cell_type": "code",
      "source": [
        "train_loader = DataLoader(dataset = train_dataset,\n",
        "                          batch_size = BATCH_SIZE,\n",
        "                          shuffle = True)\n",
        "\n",
        "test_loader = DataLoader(dataset = test_dataset,\n",
        "                         batch_size = BATCH_SIZE,\n",
        "                         shuffle = False)\n"
      ],
      "metadata": {
        "id": "wf_t6NEmJYOs"
      },
      "execution_count": 13,
      "outputs": []
    },
    {
      "cell_type": "code",
      "source": [
        "# Lets check what we have created\n",
        "print(f\"Dataloader: {train_loader,test_loader}\")\n",
        "print(f\"Length of train_loader: {len(train_loader)} batches of {BATCH_SIZE}\")\n",
        "print(f\"Length of test_loader: {len(test_loader)} batches of {BATCH_SIZE}\")"
      ],
      "metadata": {
        "colab": {
          "base_uri": "https://localhost:8080/"
        },
        "id": "lSW0CNDMKT-D",
        "outputId": "3531576d-7639-4d9a-ae56-c9e071b7d7d3"
      },
      "execution_count": 14,
      "outputs": [
        {
          "output_type": "stream",
          "name": "stdout",
          "text": [
            "Dataloader: (<torch.utils.data.dataloader.DataLoader object at 0x7d4a34249210>, <torch.utils.data.dataloader.DataLoader object at 0x7d4a3423c750>)\n",
            "Length of train_loader: 391 batches of 128\n",
            "Length of test_loader: 79 batches of 128\n"
          ]
        }
      ]
    },
    {
      "cell_type": "markdown",
      "source": [],
      "metadata": {
        "id": "XS7sNSw2KTjz"
      }
    },
    {
      "cell_type": "code",
      "source": [
        "128*391"
      ],
      "metadata": {
        "colab": {
          "base_uri": "https://localhost:8080/"
        },
        "id": "DOiYanagLSWh",
        "outputId": "17281d16-da0c-4a35-b237-667bd6c233dd"
      },
      "execution_count": 15,
      "outputs": [
        {
          "output_type": "execute_result",
          "data": {
            "text/plain": [
              "50048"
            ]
          },
          "metadata": {},
          "execution_count": 15
        }
      ]
    },
    {
      "cell_type": "code",
      "source": [
        "50000/128"
      ],
      "metadata": {
        "colab": {
          "base_uri": "https://localhost:8080/"
        },
        "id": "6TTZG7gVLUJ9",
        "outputId": "bae615e9-986b-4419-9e7c-3a6fb992bf11"
      },
      "execution_count": 16,
      "outputs": [
        {
          "output_type": "execute_result",
          "data": {
            "text/plain": [
              "390.625"
            ]
          },
          "metadata": {},
          "execution_count": 16
        }
      ]
    },
    {
      "cell_type": "markdown",
      "source": [
        "## 8. Building Vision Transformer Model from Scratch"
      ],
      "metadata": {
        "id": "7jf5DbsWLXdt"
      }
    },
    {
      "cell_type": "code",
      "source": [
        "PATCH_SIZE"
      ],
      "metadata": {
        "colab": {
          "base_uri": "https://localhost:8080/"
        },
        "id": "e7ASsK6LLjsm",
        "outputId": "0de1f1ef-8df1-44f8-ee36-51bad36d5f4b"
      },
      "execution_count": 17,
      "outputs": [
        {
          "output_type": "execute_result",
          "data": {
            "text/plain": [
              "4"
            ]
          },
          "metadata": {},
          "execution_count": 17
        }
      ]
    },
    {
      "cell_type": "code",
      "source": [
        "class PatchEmbedding(nn.Module):\n",
        "  def __init__(self, img_size, patch_size, in_channels, embed_dim):\n",
        "    super().__init__()\n",
        "    self.patch_size = patch_size\n",
        "    self.proj = nn.Conv2d(in_channels=in_channels,\n",
        "                          out_channels=embed_dim,\n",
        "                          kernel_size=patch_size,\n",
        "                          stride=patch_size)\n",
        "    num_patches = (img_size // patch_size) ** 2\n",
        "    self.cls_token = nn.Parameter(torch.randn(1, 1, embed_dim))\n",
        "    self.pos_embed = nn.Parameter(torch.randn(1, 1 + num_patches, embed_dim))\n",
        "\n",
        "  def forward(self, x: torch.Tensor):\n",
        "    B = x.size(0)\n",
        "    x = self.proj(x)  # (B, E, H/P, W/P)\n",
        "    x = x.flatten(2).transpose(1, 2)  # (B, N, E)\n",
        "    cls_token = self.cls_token.expand(B, -1, -1)  # (B, 1, E)\n",
        "    x = torch.cat((cls_token, x), dim=1)  # (B, N+1, E)\n",
        "    x = x + self.pos_embed  # <-- correct line\n",
        "    return x\n"
      ],
      "metadata": {
        "id": "XVPcD5QwLfhm"
      },
      "execution_count": 53,
      "outputs": []
    },
    {
      "cell_type": "code",
      "source": [
        "\n",
        "\n",
        "class MLP(nn.Module):\n",
        "    def __init__(self, in_features, hidden_features, drop_rate):\n",
        "        super().__init__()\n",
        "        self.fc1 = nn.Linear(in_features=in_features, out_features=hidden_features)\n",
        "        self.fc2 = nn.Linear(in_features=hidden_features, out_features=in_features)\n",
        "        self.dropout = nn.Dropout(drop_rate)\n",
        "\n",
        "    def forward(self, x):\n",
        "        x = self.dropout(F.gelu(self.fc1(x)))  # First linear layer + GELU + dropout\n",
        "        x = self.dropout(self.fc2(x))          # Second linear layer + dropout\n",
        "        return x\n"
      ],
      "metadata": {
        "id": "t5nVHSvwIgwF"
      },
      "execution_count": 54,
      "outputs": []
    },
    {
      "cell_type": "code",
      "source": [
        "class TransformerEncoderLayer(nn.Module):\n",
        "  def __init__(self, embed_dim, num_heads, mlp_dim, drop_rate):\n",
        "    super().__init__()\n",
        "    self.norm1 = nn.LayerNorm(embed_dim)  # <--- renamed from 'normal'\n",
        "    self.attn = nn.MultiheadAttention(embed_dim, num_heads, dropout=drop_rate, batch_first=True)\n",
        "    self.norm2 = nn.LayerNorm(embed_dim)\n",
        "    self.mlp = MLP(embed_dim, mlp_dim, drop_rate)\n",
        "\n",
        "  def forward(self, x):\n",
        "    x = x + self.attn(self.norm1(x), self.norm1(x), self.norm1(x))[0]\n",
        "    x = x + self.mlp(self.norm2(x))\n",
        "    return x\n"
      ],
      "metadata": {
        "id": "k-qOPyI7LziE"
      },
      "execution_count": 66,
      "outputs": []
    },
    {
      "cell_type": "code",
      "source": [
        "class VisionTransformer(nn.Module):\n",
        "  def __init__(self,img_size, patch_size, in_channels, num_classes, embed_dim,depth, num_heads, mlp_dim, drop_rate):\n",
        "    super().__init__()\n",
        "    self.patch_embed = PatchEmbedding(img_size, patch_size, in_channels, embed_dim)\n",
        "    self.encoder = nn.Sequential(\n",
        "    *[TransformerEncoderLayer(embed_dim, num_heads, mlp_dim, drop_rate) for _ in range(depth)]\n",
        ")\n",
        "\n",
        "    self.norm = nn.LayerNorm(embed_dim)\n",
        "    self.head = nn.Linear(embed_dim, num_classes)\n",
        "\n",
        "  def forward(self,x):\n",
        "    x=self.patch_embed(x)\n",
        "    x = self.encoder(x)\n",
        "    x = self.norm(x)\n",
        "    cls_token = x[:,0]\n",
        "    return self.head(cls_token)\n"
      ],
      "metadata": {
        "id": "t8X8DGwjNUcN"
      },
      "execution_count": 67,
      "outputs": []
    },
    {
      "cell_type": "code",
      "source": [
        "#Instantiate model\n",
        "model = VisionTransformer(\n",
        "    IMAGE_SIZE,PATCH_SIZE,CHANNELS,NUM_CLASSES,EMBED_DIM, DEPTH, NUM_HEADS, MLP_DIM, DROP_RATE\n",
        ").to(device)\n",
        "\n"
      ],
      "metadata": {
        "id": "EoPZZxOxGvpS"
      },
      "execution_count": 68,
      "outputs": []
    },
    {
      "cell_type": "code",
      "source": [
        "model"
      ],
      "metadata": {
        "colab": {
          "base_uri": "https://localhost:8080/"
        },
        "id": "oVL-W2p8IWZl",
        "outputId": "f809b3b4-0ee0-4f4c-d568-7ceb50f862b2"
      },
      "execution_count": 69,
      "outputs": [
        {
          "output_type": "execute_result",
          "data": {
            "text/plain": [
              "VisionTransformer(\n",
              "  (patch_embed): PatchEmbedding(\n",
              "    (proj): Conv2d(3, 256, kernel_size=(4, 4), stride=(4, 4))\n",
              "  )\n",
              "  (encoder): Sequential(\n",
              "    (0): TransformerEncoderLayer(\n",
              "      (norm1): LayerNorm((256,), eps=1e-05, elementwise_affine=True)\n",
              "      (attn): MultiheadAttention(\n",
              "        (out_proj): NonDynamicallyQuantizableLinear(in_features=256, out_features=256, bias=True)\n",
              "      )\n",
              "      (norm2): LayerNorm((256,), eps=1e-05, elementwise_affine=True)\n",
              "      (mlp): MLP(\n",
              "        (fc1): Linear(in_features=256, out_features=512, bias=True)\n",
              "        (fc2): Linear(in_features=512, out_features=256, bias=True)\n",
              "        (dropout): Dropout(p=0.1, inplace=False)\n",
              "      )\n",
              "    )\n",
              "    (1): TransformerEncoderLayer(\n",
              "      (norm1): LayerNorm((256,), eps=1e-05, elementwise_affine=True)\n",
              "      (attn): MultiheadAttention(\n",
              "        (out_proj): NonDynamicallyQuantizableLinear(in_features=256, out_features=256, bias=True)\n",
              "      )\n",
              "      (norm2): LayerNorm((256,), eps=1e-05, elementwise_affine=True)\n",
              "      (mlp): MLP(\n",
              "        (fc1): Linear(in_features=256, out_features=512, bias=True)\n",
              "        (fc2): Linear(in_features=512, out_features=256, bias=True)\n",
              "        (dropout): Dropout(p=0.1, inplace=False)\n",
              "      )\n",
              "    )\n",
              "    (2): TransformerEncoderLayer(\n",
              "      (norm1): LayerNorm((256,), eps=1e-05, elementwise_affine=True)\n",
              "      (attn): MultiheadAttention(\n",
              "        (out_proj): NonDynamicallyQuantizableLinear(in_features=256, out_features=256, bias=True)\n",
              "      )\n",
              "      (norm2): LayerNorm((256,), eps=1e-05, elementwise_affine=True)\n",
              "      (mlp): MLP(\n",
              "        (fc1): Linear(in_features=256, out_features=512, bias=True)\n",
              "        (fc2): Linear(in_features=512, out_features=256, bias=True)\n",
              "        (dropout): Dropout(p=0.1, inplace=False)\n",
              "      )\n",
              "    )\n",
              "    (3): TransformerEncoderLayer(\n",
              "      (norm1): LayerNorm((256,), eps=1e-05, elementwise_affine=True)\n",
              "      (attn): MultiheadAttention(\n",
              "        (out_proj): NonDynamicallyQuantizableLinear(in_features=256, out_features=256, bias=True)\n",
              "      )\n",
              "      (norm2): LayerNorm((256,), eps=1e-05, elementwise_affine=True)\n",
              "      (mlp): MLP(\n",
              "        (fc1): Linear(in_features=256, out_features=512, bias=True)\n",
              "        (fc2): Linear(in_features=512, out_features=256, bias=True)\n",
              "        (dropout): Dropout(p=0.1, inplace=False)\n",
              "      )\n",
              "    )\n",
              "    (4): TransformerEncoderLayer(\n",
              "      (norm1): LayerNorm((256,), eps=1e-05, elementwise_affine=True)\n",
              "      (attn): MultiheadAttention(\n",
              "        (out_proj): NonDynamicallyQuantizableLinear(in_features=256, out_features=256, bias=True)\n",
              "      )\n",
              "      (norm2): LayerNorm((256,), eps=1e-05, elementwise_affine=True)\n",
              "      (mlp): MLP(\n",
              "        (fc1): Linear(in_features=256, out_features=512, bias=True)\n",
              "        (fc2): Linear(in_features=512, out_features=256, bias=True)\n",
              "        (dropout): Dropout(p=0.1, inplace=False)\n",
              "      )\n",
              "    )\n",
              "    (5): TransformerEncoderLayer(\n",
              "      (norm1): LayerNorm((256,), eps=1e-05, elementwise_affine=True)\n",
              "      (attn): MultiheadAttention(\n",
              "        (out_proj): NonDynamicallyQuantizableLinear(in_features=256, out_features=256, bias=True)\n",
              "      )\n",
              "      (norm2): LayerNorm((256,), eps=1e-05, elementwise_affine=True)\n",
              "      (mlp): MLP(\n",
              "        (fc1): Linear(in_features=256, out_features=512, bias=True)\n",
              "        (fc2): Linear(in_features=512, out_features=256, bias=True)\n",
              "        (dropout): Dropout(p=0.1, inplace=False)\n",
              "      )\n",
              "    )\n",
              "  )\n",
              "  (norm): LayerNorm((256,), eps=1e-05, elementwise_affine=True)\n",
              "  (head): Linear(in_features=256, out_features=10, bias=True)\n",
              ")"
            ]
          },
          "metadata": {},
          "execution_count": 69
        }
      ]
    },
    {
      "cell_type": "code",
      "source": [],
      "metadata": {
        "id": "fDFdspLbJKmB"
      },
      "execution_count": 23,
      "outputs": []
    },
    {
      "cell_type": "markdown",
      "source": [
        "## 9. Defining Loss Function and Optimizer"
      ],
      "metadata": {
        "id": "qGRZRRioJhuA"
      }
    },
    {
      "cell_type": "code",
      "source": [
        "criterion = nn.CrossEntropyLoss() # Measure how wrong our model is\n",
        "optimizer = torch.optim.Adam(params = model.parameters(), # update model parameters to try and reduce loss\n",
        "                             lr = LEARNING_RATE)"
      ],
      "metadata": {
        "id": "C_2eH96FJmWc"
      },
      "execution_count": 70,
      "outputs": []
    },
    {
      "cell_type": "code",
      "source": [
        "criterion"
      ],
      "metadata": {
        "colab": {
          "base_uri": "https://localhost:8080/"
        },
        "id": "voIlGseJJut9",
        "outputId": "661d67c0-2950-4693-cc7c-463d73da32c8"
      },
      "execution_count": 48,
      "outputs": [
        {
          "output_type": "execute_result",
          "data": {
            "text/plain": [
              "CrossEntropyLoss()"
            ]
          },
          "metadata": {},
          "execution_count": 48
        }
      ]
    },
    {
      "cell_type": "markdown",
      "source": [
        "# 10. Defining a training Loop function"
      ],
      "metadata": {
        "id": "KiGdereEKCsf"
      }
    },
    {
      "cell_type": "code",
      "source": [
        "def train(model,loader,optimizer, criterion):\n",
        "  # Set the mode of the model into training\n",
        "  model.train()\n",
        "  total_loss, correct = 0,0\n",
        "  #x is a batch of photos and y is batch of labels/targets\n",
        "  for x,y in loader:\n",
        "    #Moving(Sending) our data into the target device\n",
        "    x,y = x.to(device), y.to(device)\n",
        "    optimizer.zero_grad()\n",
        "    # 1. Forward Pass (model outputs raw logits)\n",
        "    out = model(x)\n",
        "    # 2. Calculate Loss (per batch)\n",
        "    loss = criterion(out,y)\n",
        "    # 3. Perform BackPropagation\n",
        "    loss.backward()\n",
        "    # 4. Perform Gradient Descent\n",
        "    optimizer.step()\n",
        "\n",
        "    total_loss += loss.item() * x.size(0)\n",
        "    correct +=(out.argmax(1) == y).sum().item()\n",
        "  # You have to scale the loss (normalization step to make the loss general across all batches)\n",
        "  return total_loss/len(loader.dataset), correct/len(loader.dataset)"
      ],
      "metadata": {
        "id": "ExbwU_tnKFod"
      },
      "execution_count": 71,
      "outputs": []
    },
    {
      "cell_type": "code",
      "source": [
        "def evaluate(model, loader):\n",
        "  model.eval() #set the mode of the model into evaluation\n",
        "  correct = 0\n",
        "  with torch.inference_mode():\n",
        "    for x,y  in loader:\n",
        "      x,y = x.to(device), y.to(device)\n",
        "      out = model(x)\n",
        "      correct += (out.argmax(dim=1) == y).sum().item()\n",
        "  return correct/len(loader.dataset)\n"
      ],
      "metadata": {
        "id": "mJSUIlZ9MjJZ"
      },
      "execution_count": 72,
      "outputs": []
    },
    {
      "cell_type": "code",
      "source": [
        "from tqdm.auto import tqdm"
      ],
      "metadata": {
        "id": "4-5eK5_oWpGQ"
      },
      "execution_count": 74,
      "outputs": []
    },
    {
      "cell_type": "code",
      "source": [
        "#Training\n",
        "train_accuracies, test_accuracies = [],[]\n",
        "for epoch in tqdm(range(EPOCHS)):\n",
        "  train_loss, train_acc = train(model,train_loader,optimizer,criterion)\n",
        "  test_acc = evaluate(model,test_loader)\n",
        "  train_accuracies.append(train_acc)\n",
        "  test_accuracies.append(test_acc)\n",
        "  print(f\"Epoch: {epoch+1}/{EPOCHS}, Train loss: {train_loss:.4f}, Train acc: {train_acc:.4f}%, Test acc: {test_acc:.4f}\")\n",
        "\n"
      ],
      "metadata": {
        "colab": {
          "base_uri": "https://localhost:8080/",
          "height": 228,
          "referenced_widgets": [
            "86c3f81e5d634629bcfaf28133e3ff03",
            "7f51e58a0b8140fd9f3b3f0da537d36f",
            "c46e672c1f7e42d692b9ee609e2a4d58",
            "0c191cb873e14374a1c081513f12c27a",
            "f2af21c114de4a85844ad733e2ebacfd",
            "21adf3f9a74a4a449ab73f2dd1f053cb",
            "a8a7c6d194864857b125eb370c8cde2a",
            "eeea6c9e4ce347a1b80e6fbfbb11d8c5",
            "84922b58c889416faed947b1ef778ef6",
            "588dd4e0efd84f679561731c81177887",
            "e4d1786969ae4ce7bad983a2edc50698"
          ]
        },
        "id": "8SjcjQWrP6O_",
        "outputId": "464ffd0f-8e29-4794-e8b2-8c6aeb9a6f13"
      },
      "execution_count": 73,
      "outputs": [
        {
          "output_type": "display_data",
          "data": {
            "text/plain": [
              "  0%|          | 0/10 [00:00<?, ?it/s]"
            ],
            "application/vnd.jupyter.widget-view+json": {
              "version_major": 2,
              "version_minor": 0,
              "model_id": "86c3f81e5d634629bcfaf28133e3ff03"
            }
          },
          "metadata": {}
        },
        {
          "output_type": "stream",
          "name": "stdout",
          "text": [
            "Epoch: 1/10, Train loss: 1.7037, Train acc: 0.3849%, Test acc: 0.4800\n",
            "Epoch: 2/10, Train loss: 1.3866, Train acc: 0.5022%, Test acc: 0.5353\n",
            "Epoch: 3/10, Train loss: 1.2351, Train acc: 0.5563%, Test acc: 0.5651\n",
            "Epoch: 4/10, Train loss: 1.1290, Train acc: 0.5966%, Test acc: 0.5835\n",
            "Epoch: 5/10, Train loss: 1.0392, Train acc: 0.6308%, Test acc: 0.5960\n",
            "Epoch: 6/10, Train loss: 0.9625, Train acc: 0.6573%, Test acc: 0.6158\n",
            "Epoch: 7/10, Train loss: 0.8810, Train acc: 0.6860%, Test acc: 0.6277\n",
            "Epoch: 8/10, Train loss: 0.8134, Train acc: 0.7102%, Test acc: 0.6316\n",
            "Epoch: 9/10, Train loss: 0.7388, Train acc: 0.7373%, Test acc: 0.6285\n",
            "Epoch: 10/10, Train loss: 0.6683, Train acc: 0.7603%, Test acc: 0.6345\n"
          ]
        }
      ]
    },
    {
      "cell_type": "code",
      "source": [
        "train_accuracies"
      ],
      "metadata": {
        "colab": {
          "base_uri": "https://localhost:8080/"
        },
        "id": "qMB0f4nSaRnA",
        "outputId": "51a04d98-3d1a-48e4-cf79-5c496fad98ac"
      },
      "execution_count": 75,
      "outputs": [
        {
          "output_type": "execute_result",
          "data": {
            "text/plain": [
              "[0.3849,\n",
              " 0.50224,\n",
              " 0.55632,\n",
              " 0.59662,\n",
              " 0.63082,\n",
              " 0.6573,\n",
              " 0.68604,\n",
              " 0.7102,\n",
              " 0.73728,\n",
              " 0.76026]"
            ]
          },
          "metadata": {},
          "execution_count": 75
        }
      ]
    },
    {
      "cell_type": "code",
      "source": [
        "test_accuracies"
      ],
      "metadata": {
        "colab": {
          "base_uri": "https://localhost:8080/"
        },
        "id": "syxom63YaVe_",
        "outputId": "8970b74f-796d-41b6-b75a-b2f05dc91c87"
      },
      "execution_count": 76,
      "outputs": [
        {
          "output_type": "execute_result",
          "data": {
            "text/plain": [
              "[0.48, 0.5353, 0.5651, 0.5835, 0.596, 0.6158, 0.6277, 0.6316, 0.6285, 0.6345]"
            ]
          },
          "metadata": {},
          "execution_count": 76
        }
      ]
    },
    {
      "cell_type": "markdown",
      "source": [
        "# Plot accuracies"
      ],
      "metadata": {
        "id": "cRmqJ-0fabUi"
      }
    },
    {
      "cell_type": "code",
      "source": [
        "plt.plot(train_accuracies, label = \"Train Accuracy\")\n",
        "plt.plot(test_accuracies, label = \"Test Accuracy\")\n",
        "plt.xlabel(\"Epochs\")\n",
        "plt.ylabel(\"Accuracy\")\n",
        "plt.legend()\n",
        "plt.title(\"Training and Test Accuracy\")\n",
        "plt.show()"
      ],
      "metadata": {
        "colab": {
          "base_uri": "https://localhost:8080/",
          "height": 472
        },
        "id": "yi0exdQtaXGh",
        "outputId": "eb8111e1-4879-4e32-8f68-4afa6d2e004f"
      },
      "execution_count": 77,
      "outputs": [
        {
          "output_type": "display_data",
          "data": {
            "text/plain": [
              "<Figure size 640x480 with 1 Axes>"
            ],
            "image/png": "[encoded data removed]"
          },
          "metadata": {}
        }
      ]
    },
    {
      "cell_type": "code",
      "source": [
        "import random"
      ],
      "metadata": {
        "id": "xUXjPmUNbJQx"
      },
      "execution_count": 78,
      "outputs": []
    },
    {
      "cell_type": "code",
      "source": [
        "test_dataset[0][0].unsqueeze(dim=0).shape"
      ],
      "metadata": {
        "colab": {
          "base_uri": "https://localhost:8080/"
        },
        "id": "urQU7aIgcCx1",
        "outputId": "117fdbb5-1767-4f53-b31c-90b60ec80020"
      },
      "execution_count": 85,
      "outputs": [
        {
          "output_type": "execute_result",
          "data": {
            "text/plain": [
              "torch.Size([1, 3, 32, 32])"
            ]
          },
          "metadata": {},
          "execution_count": 85
        }
      ]
    },
    {
      "cell_type": "code",
      "source": [
        "def predict_and_plot_grid(\n",
        "    model,\n",
        "    dataset,\n",
        "    classes,\n",
        "    grid_size=3):\n",
        "  model.eval()\n",
        "  fig,axes = plt.subplots(grid_size, grid_size, figsize = (9,9))\n",
        "  for i in range(grid_size):\n",
        "    for j in range(grid_size):\n",
        "      idx = random.randint(0,len(dataset) - 1)\n",
        "      img, true_label = dataset[idx]\n",
        "      input_tensor = img.unsqueeze(dim=0).to(device)\n",
        "      with torch.inference_mode():\n",
        "        output = model(input_tensor)\n",
        "        _, predicted = torch.max(output.data,1)\n",
        "      img = img/2 +0.5 #unnormalize images to be able to plot with matplotlib\n",
        "      npimg = img.cpu().numpy()\n",
        "      axes[i,j].imshow(np.transpose(npimg, (1,2,0)))\n",
        "      truth = classes[true_label] == classes[predicted.item()]\n",
        "      if truth:\n",
        "        color = \"g\"\n",
        "      else:\n",
        "        color = \"r\"\n",
        "\n",
        "      axes[i,j].set_title(f\"Truth:{classes[true_label]}\\n, Predicted:{classes[predicted.item()]}\",fontsize = 10, c=color)\n",
        "      axes[i,j].axis(\"off\")\n",
        "  plt.tight_layout()\n",
        "\n",
        "  plt.show()\n",
        "\n"
      ],
      "metadata": {
        "id": "0p85vgFabAUd"
      },
      "execution_count": 89,
      "outputs": []
    },
    {
      "cell_type": "code",
      "source": [
        "predict_and_plot_grid(model,test_dataset, classes= train_dataset.classes, grid_size=3)"
      ],
      "metadata": {
        "colab": {
          "base_uri": "https://localhost:8080/",
          "height": 906
        },
        "id": "3cqN-JBRdwpE",
        "outputId": "ecec8922-6eaf-49e0-b5fe-32a595619105"
      },
      "execution_count": 96,
      "outputs": [
        {
          "output_type": "display_data",
          "data": {
            "text/plain": [
              "<Figure size 900x900 with 9 Axes>"
            ],
            "image/png": "[encoded data removed]"
          },
          "metadata": {}
        }
      ]
    },
    {
      "cell_type": "code",
      "source": [],
      "metadata": {
        "id": "Pmlot8IMd_n4"
      },
      "execution_count": null,
      "outputs": []
    }
  ]
}